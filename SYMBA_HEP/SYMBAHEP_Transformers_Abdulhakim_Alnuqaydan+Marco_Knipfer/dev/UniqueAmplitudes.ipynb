{
 "cells": [
  {
   "cell_type": "markdown",
   "metadata": {},
   "source": [
    "# Unique Amplitudes/Squared Amplitdues\n",
    "In this notebook I want to explore how many amplitudes are unique.\n",
    "I don't expect the same amount of squared amplitudes to be unique, since two amplitudes can have the same squared amplitude.\n",
    "\n",
    "The motivation is that I don't want to create new data, but I want to have unique amplitudes so that I can be sure that my model is not overfitting.\n",
    "Actually I think the way my data is now, I am basically always testing on training data, because every amplitude appears so often.\n",
    "\n",
    "Ideally I want to train on completely unique amplitudes and then test on another set of completely unique amplitudes.\n",
    "By this  I mean structurally completely unique, not just $m_e$ -> $m_\\mu$."
   ]
  },
  {
   "cell_type": "code",
   "execution_count": 92,
   "metadata": {},
   "outputs": [],
   "source": [
    "from icecream import ic\n",
    "import sympy as sp\n",
    "from itertools import (takewhile,repeat)\n",
    "from tqdm import tqdm\n",
    "import numpy as np\n",
    "import sys\n",
    "import os\n",
    "import importlib.util\n",
    "from sklearn.model_selection import train_test_split\n",
    "import matplotlib.pyplot as plt\n",
    "from tqdm.notebook import tqdm\n",
    "from tensorflow.keras.layers import TextVectorization\n",
    "from tensorflow.keras import layers\n",
    "import tensorflow as tf\n",
    "from tensorflow import keras\n",
    "import pickle"
   ]
  },
  {
   "cell_type": "code",
   "execution_count": 93,
   "metadata": {},
   "outputs": [
    {
     "data": {
      "text/plain": [
       "[PhysicalDevice(name='/physical_device:GPU:0', device_type='GPU')]"
      ]
     },
     "execution_count": 93,
     "metadata": {},
     "output_type": "execute_result"
    }
   ],
   "source": [
    "tf.config.list_physical_devices('GPU')"
   ]
  },
  {
   "cell_type": "code",
   "execution_count": 94,
   "metadata": {},
   "outputs": [],
   "source": [
    "if \"..\" not in sys.path:\n",
    "    sys.path.insert(0, \"..\")"
   ]
  },
  {
   "cell_type": "code",
   "execution_count": 95,
   "metadata": {},
   "outputs": [],
   "source": [
    "import data_preprocessing.tree.sympy_to_tree as sp2tree\n",
    "from data_preprocessing.sympy_prefix.source.SympyPrefix import prefix_to_sympy, sympy_to_prefix, sympy_to_hybrid_prefix, hybrid_prefix_to_sympy"
   ]
  },
  {
   "cell_type": "code",
   "execution_count": 96,
   "metadata": {},
   "outputs": [
    {
     "ename": "KeyboardInterrupt",
     "evalue": "",
     "output_type": "error",
     "traceback": [
      "\u001b[0;31m---------------------------------------------------------------------------\u001b[0m",
      "\u001b[0;31mKeyboardInterrupt\u001b[0m                         Traceback (most recent call last)",
      "\u001b[1;32m/home/boggog/Documents/PhD-ML/GSoC/SYMBA/dev/UniqueAmplitudes.ipynb Cell 6\u001b[0m in \u001b[0;36m<cell line: 2>\u001b[0;34m()\u001b[0m\n\u001b[1;32m      <a href='vscode-notebook-cell:/home/boggog/Documents/PhD-ML/GSoC/SYMBA/dev/UniqueAmplitudes.ipynb#X21sZmlsZQ%3D%3D?line=1'>2</a>\u001b[0m \u001b[39mwith\u001b[39;00m \u001b[39mopen\u001b[39m(export_folder\u001b[39m+\u001b[39m\u001b[39m\"\u001b[39m\u001b[39mamplitudes.pickle\u001b[39m\u001b[39m\"\u001b[39m, \u001b[39m\"\u001b[39m\u001b[39mrb\u001b[39m\u001b[39m\"\u001b[39m) \u001b[39mas\u001b[39;00m f:\n\u001b[1;32m      <a href='vscode-notebook-cell:/home/boggog/Documents/PhD-ML/GSoC/SYMBA/dev/UniqueAmplitudes.ipynb#X21sZmlsZQ%3D%3D?line=2'>3</a>\u001b[0m     amplitudes \u001b[39m=\u001b[39m pickle\u001b[39m.\u001b[39mload(f)\n\u001b[0;32m----> <a href='vscode-notebook-cell:/home/boggog/Documents/PhD-ML/GSoC/SYMBA/dev/UniqueAmplitudes.ipynb#X21sZmlsZQ%3D%3D?line=3'>4</a>\u001b[0m     amplitudes \u001b[39m=\u001b[39m [[a\u001b[39m.\u001b[39msplit(\u001b[39m\"\u001b[39m\u001b[39m,\u001b[39m\u001b[39m\"\u001b[39m) \u001b[39mfor\u001b[39;00m a \u001b[39min\u001b[39;00m amps] \u001b[39mfor\u001b[39;00m amps \u001b[39min\u001b[39;00m amplitudes]\n\u001b[1;32m      <a href='vscode-notebook-cell:/home/boggog/Documents/PhD-ML/GSoC/SYMBA/dev/UniqueAmplitudes.ipynb#X21sZmlsZQ%3D%3D?line=5'>6</a>\u001b[0m \u001b[39mwith\u001b[39;00m \u001b[39mopen\u001b[39m(export_folder\u001b[39m+\u001b[39m\u001b[39m\"\u001b[39m\u001b[39msqamplitudes.pickle\u001b[39m\u001b[39m\"\u001b[39m, \u001b[39m\"\u001b[39m\u001b[39mrb\u001b[39m\u001b[39m\"\u001b[39m) \u001b[39mas\u001b[39;00m f:\n\u001b[1;32m      <a href='vscode-notebook-cell:/home/boggog/Documents/PhD-ML/GSoC/SYMBA/dev/UniqueAmplitudes.ipynb#X21sZmlsZQ%3D%3D?line=6'>7</a>\u001b[0m     sqamplitudes \u001b[39m=\u001b[39m pickle\u001b[39m.\u001b[39mload(f)\n",
      "\u001b[1;32m/home/boggog/Documents/PhD-ML/GSoC/SYMBA/dev/UniqueAmplitudes.ipynb Cell 6\u001b[0m in \u001b[0;36m<listcomp>\u001b[0;34m(.0)\u001b[0m\n\u001b[1;32m      <a href='vscode-notebook-cell:/home/boggog/Documents/PhD-ML/GSoC/SYMBA/dev/UniqueAmplitudes.ipynb#X21sZmlsZQ%3D%3D?line=1'>2</a>\u001b[0m \u001b[39mwith\u001b[39;00m \u001b[39mopen\u001b[39m(export_folder\u001b[39m+\u001b[39m\u001b[39m\"\u001b[39m\u001b[39mamplitudes.pickle\u001b[39m\u001b[39m\"\u001b[39m, \u001b[39m\"\u001b[39m\u001b[39mrb\u001b[39m\u001b[39m\"\u001b[39m) \u001b[39mas\u001b[39;00m f:\n\u001b[1;32m      <a href='vscode-notebook-cell:/home/boggog/Documents/PhD-ML/GSoC/SYMBA/dev/UniqueAmplitudes.ipynb#X21sZmlsZQ%3D%3D?line=2'>3</a>\u001b[0m     amplitudes \u001b[39m=\u001b[39m pickle\u001b[39m.\u001b[39mload(f)\n\u001b[0;32m----> <a href='vscode-notebook-cell:/home/boggog/Documents/PhD-ML/GSoC/SYMBA/dev/UniqueAmplitudes.ipynb#X21sZmlsZQ%3D%3D?line=3'>4</a>\u001b[0m     amplitudes \u001b[39m=\u001b[39m [[a\u001b[39m.\u001b[39msplit(\u001b[39m\"\u001b[39m\u001b[39m,\u001b[39m\u001b[39m\"\u001b[39m) \u001b[39mfor\u001b[39;00m a \u001b[39min\u001b[39;00m amps] \u001b[39mfor\u001b[39;00m amps \u001b[39min\u001b[39;00m amplitudes]\n\u001b[1;32m      <a href='vscode-notebook-cell:/home/boggog/Documents/PhD-ML/GSoC/SYMBA/dev/UniqueAmplitudes.ipynb#X21sZmlsZQ%3D%3D?line=5'>6</a>\u001b[0m \u001b[39mwith\u001b[39;00m \u001b[39mopen\u001b[39m(export_folder\u001b[39m+\u001b[39m\u001b[39m\"\u001b[39m\u001b[39msqamplitudes.pickle\u001b[39m\u001b[39m\"\u001b[39m, \u001b[39m\"\u001b[39m\u001b[39mrb\u001b[39m\u001b[39m\"\u001b[39m) \u001b[39mas\u001b[39;00m f:\n\u001b[1;32m      <a href='vscode-notebook-cell:/home/boggog/Documents/PhD-ML/GSoC/SYMBA/dev/UniqueAmplitudes.ipynb#X21sZmlsZQ%3D%3D?line=6'>7</a>\u001b[0m     sqamplitudes \u001b[39m=\u001b[39m pickle\u001b[39m.\u001b[39mload(f)\n",
      "\u001b[1;32m/home/boggog/Documents/PhD-ML/GSoC/SYMBA/dev/UniqueAmplitudes.ipynb Cell 6\u001b[0m in \u001b[0;36m<listcomp>\u001b[0;34m(.0)\u001b[0m\n\u001b[1;32m      <a href='vscode-notebook-cell:/home/boggog/Documents/PhD-ML/GSoC/SYMBA/dev/UniqueAmplitudes.ipynb#X21sZmlsZQ%3D%3D?line=1'>2</a>\u001b[0m \u001b[39mwith\u001b[39;00m \u001b[39mopen\u001b[39m(export_folder\u001b[39m+\u001b[39m\u001b[39m\"\u001b[39m\u001b[39mamplitudes.pickle\u001b[39m\u001b[39m\"\u001b[39m, \u001b[39m\"\u001b[39m\u001b[39mrb\u001b[39m\u001b[39m\"\u001b[39m) \u001b[39mas\u001b[39;00m f:\n\u001b[1;32m      <a href='vscode-notebook-cell:/home/boggog/Documents/PhD-ML/GSoC/SYMBA/dev/UniqueAmplitudes.ipynb#X21sZmlsZQ%3D%3D?line=2'>3</a>\u001b[0m     amplitudes \u001b[39m=\u001b[39m pickle\u001b[39m.\u001b[39mload(f)\n\u001b[0;32m----> <a href='vscode-notebook-cell:/home/boggog/Documents/PhD-ML/GSoC/SYMBA/dev/UniqueAmplitudes.ipynb#X21sZmlsZQ%3D%3D?line=3'>4</a>\u001b[0m     amplitudes \u001b[39m=\u001b[39m [[a\u001b[39m.\u001b[39;49msplit(\u001b[39m\"\u001b[39;49m\u001b[39m,\u001b[39;49m\u001b[39m\"\u001b[39;49m) \u001b[39mfor\u001b[39;00m a \u001b[39min\u001b[39;00m amps] \u001b[39mfor\u001b[39;00m amps \u001b[39min\u001b[39;00m amplitudes]\n\u001b[1;32m      <a href='vscode-notebook-cell:/home/boggog/Documents/PhD-ML/GSoC/SYMBA/dev/UniqueAmplitudes.ipynb#X21sZmlsZQ%3D%3D?line=5'>6</a>\u001b[0m \u001b[39mwith\u001b[39;00m \u001b[39mopen\u001b[39m(export_folder\u001b[39m+\u001b[39m\u001b[39m\"\u001b[39m\u001b[39msqamplitudes.pickle\u001b[39m\u001b[39m\"\u001b[39m, \u001b[39m\"\u001b[39m\u001b[39mrb\u001b[39m\u001b[39m\"\u001b[39m) \u001b[39mas\u001b[39;00m f:\n\u001b[1;32m      <a href='vscode-notebook-cell:/home/boggog/Documents/PhD-ML/GSoC/SYMBA/dev/UniqueAmplitudes.ipynb#X21sZmlsZQ%3D%3D?line=6'>7</a>\u001b[0m     sqamplitudes \u001b[39m=\u001b[39m pickle\u001b[39m.\u001b[39mload(f)\n",
      "\u001b[0;31mKeyboardInterrupt\u001b[0m: "
     ]
    }
   ],
   "source": [
    "export_folder = \"../data.nosync/2022-11-09/\"\n",
    "with open(export_folder+\"amplitudes.pickle\", \"rb\") as f:\n",
    "    amplitudes = pickle.load(f)\n",
    "    amplitudes = [[a.split(\",\") for a in amps] for amps in amplitudes]\n",
    "\n",
    "with open(export_folder+\"sqamplitudes.pickle\", \"rb\") as f:\n",
    "    sqamplitudes = pickle.load(f)"
   ]
  },
  {
   "cell_type": "code",
   "execution_count": null,
   "metadata": {},
   "outputs": [],
   "source": [
    "def get_unique_indices(amps):\n",
    "    amps = [\" \".join(a) for a in amps]\n",
    "    tmp = np.sort(np.unique(amps, return_index=True, axis=0)[1])\n",
    "    return tmp"
   ]
  },
  {
   "cell_type": "code",
   "execution_count": null,
   "metadata": {},
   "outputs": [
    {
     "data": {
      "text/plain": [
       "58332"
      ]
     },
     "execution_count": 73,
     "metadata": {},
     "output_type": "execute_result"
    }
   ],
   "source": [
    "tmp = get_unique_indices(amplitudes[3])\n",
    "len(tmp)"
   ]
  },
  {
   "cell_type": "code",
   "execution_count": null,
   "metadata": {},
   "outputs": [
    {
     "data": {
      "text/plain": [
       "129023"
      ]
     },
     "execution_count": 74,
     "metadata": {},
     "output_type": "execute_result"
    }
   ],
   "source": [
    "len(amplitudes[3])"
   ]
  },
  {
   "cell_type": "code",
   "execution_count": null,
   "metadata": {},
   "outputs": [],
   "source": [
    "unique_indices = [get_unique_indices(a) for a in amplitudes]"
   ]
  },
  {
   "cell_type": "code",
   "execution_count": null,
   "metadata": {},
   "outputs": [],
   "source": [
    "amplitudes_unique = [[amplitudes[j][ind] for ind in unique_indices[j]] for j in range(len(amplitudes))]"
   ]
  },
  {
   "cell_type": "code",
   "execution_count": null,
   "metadata": {},
   "outputs": [],
   "source": [
    "sqamplitudes_corresponding = [[sqamplitudes[j][ind] for ind in unique_indices[j]] for j in range(len(amplitudes))]"
   ]
  },
  {
   "cell_type": "code",
   "execution_count": 101,
   "metadata": {},
   "outputs": [
    {
     "name": "stderr",
     "output_type": "stream",
     "text": [
      "ic| len(a): 54\n",
      "ic| len(a): 54\n",
      "ic| len(a): 2988\n",
      "ic| len(a): 58332\n",
      "ic| len(a): 58361\n"
     ]
    }
   ],
   "source": [
    "for a in amplitudes_unique:\n",
    "    ic(len(a))"
   ]
  },
  {
   "cell_type": "code",
   "execution_count": null,
   "metadata": {},
   "outputs": [
    {
     "data": {
      "application/vnd.jupyter.widget-view+json": {
       "model_id": "ebc18885327143a090f1887c20236997",
       "version_major": 2,
       "version_minor": 0
      },
      "text/plain": [
       "  0%|          | 0/54 [00:00<?, ?it/s]"
      ]
     },
     "metadata": {},
     "output_type": "display_data"
    },
    {
     "data": {
      "application/vnd.jupyter.widget-view+json": {
       "model_id": "934a55a5e30240f9a5cd488e7b8e11ad",
       "version_major": 2,
       "version_minor": 0
      },
      "text/plain": [
       "  0%|          | 0/54 [00:00<?, ?it/s]"
      ]
     },
     "metadata": {},
     "output_type": "display_data"
    },
    {
     "data": {
      "application/vnd.jupyter.widget-view+json": {
       "model_id": "9527158b5372416ab6523a11a58b1ec5",
       "version_major": 2,
       "version_minor": 0
      },
      "text/plain": [
       "  0%|          | 0/2988 [00:00<?, ?it/s]"
      ]
     },
     "metadata": {},
     "output_type": "display_data"
    },
    {
     "data": {
      "application/vnd.jupyter.widget-view+json": {
       "model_id": "7d21812cebdd44ac829d7c1ee62161cc",
       "version_major": 2,
       "version_minor": 0
      },
      "text/plain": [
       "  0%|          | 0/58332 [00:00<?, ?it/s]"
      ]
     },
     "metadata": {},
     "output_type": "display_data"
    },
    {
     "data": {
      "application/vnd.jupyter.widget-view+json": {
       "model_id": "4150d72d4ade47fa9afec876ebffccab",
       "version_major": 2,
       "version_minor": 0
      },
      "text/plain": [
       "  0%|          | 0/58361 [00:00<?, ?it/s]"
      ]
     },
     "metadata": {},
     "output_type": "display_data"
    },
    {
     "data": {
      "text/plain": [
       "array(['mul', 's-', '4', 'mul', 'pow', 'e', '2', 'add', 'mul', 's-', '1',\n",
       "       's_12', 'mul', '2', 'pow', 'm_mu', '2'], dtype='<U4')"
      ]
     },
     "execution_count": 90,
     "metadata": {},
     "output_type": "execute_result"
    }
   ],
   "source": [
    "# convert squared ampmlitudes to prefix\n",
    "ctr = 0\n",
    "def try_sympy_to_prefix(expr):\n",
    "    global ctr\n",
    "    ctr = ctr + 1\n",
    "    try:\n",
    "        return sympy_to_prefix(expr)\n",
    "    except:\n",
    "        print(\"problem with:\", expr, \"at ctr =\", ctr)\n",
    "        return 0\n",
    "sqampl_prefix = [[try_sympy_to_prefix(a) for a in tqdm(sq)] for sq in sqamplitudes_corresponding]\n",
    "np.array(sqampl_prefix[0][0])"
   ]
  },
  {
   "cell_type": "code",
   "execution_count": 116,
   "metadata": {},
   "outputs": [
    {
     "name": "stdout",
     "output_type": "stream",
     "text": [
      "['Prod', '-1', 'Prod', 'i', 'Prod', 'e', 'Prod', 'gamma', 'alpha_2', 'alpha_0', 'alpha_1', 'Prod', 'A^(*)', 'i_2', 'alpha_2', '(p_3)', 'Prod', 'mu', 'i_0', 'alpha_1', '(p_1)_u', 'mu^(*)', 'i_1', 'alpha_0', '(p_2)_u']\n",
      "['Prod', '-1', 'Prod', 'i', 'Prod', 'e', 'Prod', 'gamma', 'alpha_2', 'alpha_1', 'alpha_0', 'Prod', 'A^(*)', 'i_2', 'alpha_2', '(p_2)', 'Prod', 'mu^(*)', 'i_0', 'alpha_1', '(p_1)_u', 'mu', 'i_1', 'alpha_0', '(p_3)_u']\n",
      "['Prod', '-1', 'Prod', 'i', 'Prod', 'e', 'Prod', 'gamma', 'alpha_2', 'alpha_0', 'alpha_1', 'Prod', 'A^(*)', 'i_2', 'alpha_2', '(p_3)', 'Prod', 'ee', 'i_0', 'alpha_1', '(p_1)_u', 'ee^(*)', 'i_1', 'alpha_0', '(p_2)_u']\n",
      "['Prod', '-1', 'Prod', 'i', 'Prod', 'e', 'Prod', 'gamma', 'alpha_2', 'alpha_1', 'alpha_0', 'Prod', 'A^(*)', 'i_2', 'alpha_2', '(p_2)', 'Prod', 'ee^(*)', 'i_0', 'alpha_1', '(p_1)_u', 'ee', 'i_1', 'alpha_0', '(p_3)_u']\n",
      "['Prod', '-1', 'Prod', 'i', 'Prod', 'e', 'Prod', 'gamma', 'alpha_2', 'alpha_1', 'alpha_0', 'Prod', 'A^(*)', 'i_2', 'alpha_2', '(p_3)', 'Prod', 'mu^(*)', 'i_0', 'alpha_1', '(p_1)_v', 'mu', 'i_1', 'alpha_0', '(p_2)_v']\n",
      "['Prod', '-1', 'Prod', 'i', 'Prod', 'e', 'Prod', 'gamma', 'alpha_2', 'alpha_0', 'alpha_1', 'Prod', 'A^(*)', 'i_2', 'alpha_2', '(p_2)', 'Prod', 'mu', 'i_0', 'alpha_1', '(p_1)_v', 'mu^(*)', 'i_1', 'alpha_0', '(p_3)_v']\n",
      "['Prod', '-1', 'Prod', 'i', 'Prod', 'e', 'Prod', 'gamma', 'alpha_2', 'alpha_1', 'alpha_0', 'Prod', 'A^(*)', 'i_2', 'alpha_2', '(p_3)', 'Prod', 'ee^(*)', 'i_0', 'alpha_1', '(p_1)_v', 'ee', 'i_1', 'alpha_0', '(p_2)_v']\n",
      "['Prod', '-1', 'Prod', 'i', 'Prod', 'e', 'Prod', 'gamma', 'alpha_2', 'alpha_0', 'alpha_1', 'Prod', 'A^(*)', 'i_2', 'alpha_2', '(p_2)', 'Prod', 'ee', 'i_0', 'alpha_1', '(p_1)_v', 'ee^(*)', 'i_1', 'alpha_0', '(p_3)_v']\n",
      "['Prod', '-1', 'Prod', 'i', 'Prod', 'e', 'Prod', 'gamma', 'alpha_2', 'alpha_0', 'alpha_1', 'Prod', 'A^(*)', 'i_2', 'alpha_2', '(p_3)', 'Prod', 't', 'i_0', 'alpha_1', '(p_1)_u', 't^(*)', 'i_1', 'alpha_0', '(p_2)_u']\n",
      "['Prod', '-1', 'Prod', 'i', 'Prod', 'e', 'Prod', 'gamma', 'alpha_2', 'alpha_1', 'alpha_0', 'Prod', 'A^(*)', 'i_2', 'alpha_2', '(p_2)', 'Prod', 't^(*)', 'i_0', 'alpha_1', '(p_1)_u', 't', 'i_1', 'alpha_0', '(p_3)_u']\n",
      "['Prod', '-1', 'Prod', 'i', 'Prod', 'e', 'Prod', 'gamma', 'alpha_2', 'alpha_1', 'alpha_0', 'Prod', 'A^(*)', 'i_2', 'alpha_2', '(p_3)', 'Prod', 't^(*)', 'i_0', 'alpha_1', '(p_1)_v', 't', 'i_1', 'alpha_0', '(p_2)_v']\n",
      "['Prod', '-1', 'Prod', 'i', 'Prod', 'e', 'Prod', 'gamma', 'alpha_2', 'alpha_0', 'alpha_1', 'Prod', 'A^(*)', 'i_2', 'alpha_2', '(p_2)', 'Prod', 't', 'i_0', 'alpha_1', '(p_1)_v', 't^(*)', 'i_1', 'alpha_0', '(p_3)_v']\n",
      "['Prod', '2/3', 'Prod', 'i', 'Prod', 'e', 'Prod', 'gamma', 'alpha_2', 'alpha_0', 'alpha_1', 'Prod', 'A^(*)', 'i_2', 'alpha_2', '(p_3)', 'Prod', 'u', 'i_0', 'alpha_1', '(p_1)_u', 'u^(*)', 'i_1', 'alpha_0', '(p_2)_u']\n",
      "['Prod', '2/3', 'Prod', 'i', 'Prod', 'e', 'Prod', 'gamma', 'alpha_2', 'alpha_1', 'alpha_0', 'Prod', 'A^(*)', 'i_2', 'alpha_2', '(p_2)', 'Prod', 'u^(*)', 'i_0', 'alpha_1', '(p_1)_u', 'u', 'i_1', 'alpha_0', '(p_3)_u']\n",
      "['Prod', '2/3', 'Prod', 'i', 'Prod', 'e', 'Prod', 'gamma', 'alpha_2', 'alpha_1', 'alpha_0', 'Prod', 'A^(*)', 'i_2', 'alpha_2', '(p_3)', 'Prod', 'u^(*)', 'i_0', 'alpha_1', '(p_1)_v', 'u', 'i_1', 'alpha_0', '(p_2)_v']\n",
      "['Prod', '2/3', 'Prod', 'i', 'Prod', 'e', 'Prod', 'gamma', 'alpha_2', 'alpha_0', 'alpha_1', 'Prod', 'A^(*)', 'i_2', 'alpha_2', '(p_2)', 'Prod', 'u', 'i_0', 'alpha_1', '(p_1)_v', 'u^(*)', 'i_1', 'alpha_0', '(p_3)_v']\n",
      "['Prod', '-1/3', 'Prod', 'i', 'Prod', 'e', 'Prod', 'gamma', 'alpha_2', 'alpha_0', 'alpha_1', 'Prod', 'A^(*)', 'i_2', 'alpha_2', '(p_3)', 'Prod', 'd', 'i_0', 'alpha_1', '(p_1)_u', 'd^(*)', 'i_1', 'alpha_0', '(p_2)_u']\n",
      "['Prod', '-1/3', 'Prod', 'i', 'Prod', 'e', 'Prod', 'gamma', 'alpha_2', 'alpha_1', 'alpha_0', 'Prod', 'A^(*)', 'i_2', 'alpha_2', '(p_2)', 'Prod', 'd^(*)', 'i_0', 'alpha_1', '(p_1)_u', 'd', 'i_1', 'alpha_0', '(p_3)_u']\n",
      "['Prod', '-1/3', 'Prod', 'i', 'Prod', 'e', 'Prod', 'gamma', 'alpha_2', 'alpha_1', 'alpha_0', 'Prod', 'A^(*)', 'i_2', 'alpha_2', '(p_3)', 'Prod', 'd^(*)', 'i_0', 'alpha_1', '(p_1)_v', 'd', 'i_1', 'alpha_0', '(p_2)_v']\n",
      "['Prod', '-1/3', 'Prod', 'i', 'Prod', 'e', 'Prod', 'gamma', 'alpha_2', 'alpha_0', 'alpha_1', 'Prod', 'A^(*)', 'i_2', 'alpha_2', '(p_2)', 'Prod', 'd', 'i_0', 'alpha_1', '(p_1)_v', 'd^(*)', 'i_1', 'alpha_0', '(p_3)_v']\n",
      "['Prod', '-1/3', 'Prod', 'i', 'Prod', 'e', 'Prod', 'gamma', 'alpha_2', 'alpha_0', 'alpha_1', 'Prod', 'A^(*)', 'i_2', 'alpha_2', '(p_3)', 'Prod', 's', 'i_0', 'alpha_1', '(p_1)_u', 's^(*)', 'i_1', 'alpha_0', '(p_2)_u']\n",
      "['Prod', '-1/3', 'Prod', 'i', 'Prod', 'e', 'Prod', 'gamma', 'alpha_2', 'alpha_1', 'alpha_0', 'Prod', 'A^(*)', 'i_2', 'alpha_2', '(p_2)', 'Prod', 's^(*)', 'i_0', 'alpha_1', '(p_1)_u', 's', 'i_1', 'alpha_0', '(p_3)_u']\n",
      "['Prod', '-1/3', 'Prod', 'i', 'Prod', 'e', 'Prod', 'gamma', 'alpha_2', 'alpha_1', 'alpha_0', 'Prod', 'A^(*)', 'i_2', 'alpha_2', '(p_3)', 'Prod', 's^(*)', 'i_0', 'alpha_1', '(p_1)_v', 's', 'i_1', 'alpha_0', '(p_2)_v']\n",
      "['Prod', '-1/3', 'Prod', 'i', 'Prod', 'e', 'Prod', 'gamma', 'alpha_2', 'alpha_0', 'alpha_1', 'Prod', 'A^(*)', 'i_2', 'alpha_2', '(p_2)', 'Prod', 's', 'i_0', 'alpha_1', '(p_1)_v', 's^(*)', 'i_1', 'alpha_0', '(p_3)_v']\n",
      "['Prod', '2/3', 'Prod', 'i', 'Prod', 'e', 'Prod', 'gamma', 'alpha_2', 'alpha_0', 'alpha_1', 'Prod', 'A^(*)', 'i_2', 'alpha_2', '(p_3)', 'Prod', 'c', 'i_0', 'alpha_1', '(p_1)_u', 'c^(*)', 'i_1', 'alpha_0', '(p_2)_u']\n",
      "['Prod', '-1/3', 'Prod', 'i', 'Prod', 'e', 'Prod', 'gamma', 'alpha_2', 'alpha_0', 'alpha_1', 'Prod', 'A^(*)', 'i_2', 'alpha_2', '(p_2)', 'Prod', 'b', 'i_0', 'alpha_1', '(p_1)_v', 'b^(*)', 'i_1', 'alpha_0', '(p_3)_v']\n"
     ]
    }
   ],
   "source": [
    "print(amplitudes_unique[0][0])\n",
    "print(amplitudes_unique[0][1])\n",
    "print(amplitudes_unique[0][2])\n",
    "print(amplitudes_unique[0][3])\n",
    "print(amplitudes_unique[0][4])\n",
    "print(amplitudes_unique[0][5])\n",
    "print(amplitudes_unique[0][6])\n",
    "print(amplitudes_unique[0][7])\n",
    "print(amplitudes_unique[0][8])\n",
    "print(amplitudes_unique[0][9])\n",
    "print(amplitudes_unique[0][10])\n",
    "print(amplitudes_unique[0][11])\n",
    "print(amplitudes_unique[0][12])\n",
    "print(amplitudes_unique[0][13])\n",
    "print(amplitudes_unique[0][14])\n",
    "print(amplitudes_unique[0][15])\n",
    "print(amplitudes_unique[0][16])\n",
    "print(amplitudes_unique[0][17])\n",
    "print(amplitudes_unique[0][18])\n",
    "print(amplitudes_unique[0][19])\n",
    "print(amplitudes_unique[0][20])\n",
    "print(amplitudes_unique[0][21])\n",
    "print(amplitudes_unique[0][22])\n",
    "print(amplitudes_unique[0][23])\n",
    "print(amplitudes_unique[0][24])\n",
    "print(amplitudes_unique[0][-1])"
   ]
  },
  {
   "cell_type": "code",
   "execution_count": 117,
   "metadata": {},
   "outputs": [
    {
     "name": "stdout",
     "output_type": "stream",
     "text": [
      "['Prod', '-1', 'Prod', 'i', 'Prod', 'e', 'Prod', 'gamma', 'alpha_2', 'alpha_0', 'alpha_1', 'Prod', 'A', 'i_2', 'alpha_2', '(p_2)', 'Prod', 'ee', 'i_0', 'alpha_1', '(p_1)_u', 'ee^(*)', 'i_1', 'alpha_0', '(p_3)_u']\n",
      "['Prod', '-1', 'Prod', 'i', 'Prod', 'e', 'Prod', 'gamma', 'alpha_2', 'alpha_1', 'alpha_0', 'Prod', 'A', 'i_2', 'alpha_2', '(p_3)', 'Prod', 'ee^(*)', 'i_0', 'alpha_1', '(p_1)_u', 'ee', 'i_1', 'alpha_0', '(p_2)_u']\n",
      "['Prod', '-1', 'Prod', 'i', 'Prod', 'e', 'Prod', 'gamma', 'alpha_2', 'alpha_0', 'alpha_1', 'Prod', 'A^(*)', 'i_2', 'alpha_2', '(p_3)', 'Prod', 'ee', 'i_0', 'alpha_1', '(p_1)_u', 'ee^(*)', 'i_1', 'alpha_0', '(p_2)_v']\n",
      "['Prod', '-1', 'Prod', 'i', 'Prod', 'e', 'Prod', 'gamma', 'alpha_2', 'alpha_0', 'alpha_1', 'Prod', 'A^(*)', 'i_0', 'alpha_2', '(p_1)', 'Prod', 'ee', 'i_2', 'alpha_1', '(p_2)_u', 'ee^(*)', 'i_1', 'alpha_0', '(p_3)_v']\n",
      "['Prod', '-1', 'Prod', 'i', 'Prod', 'e', 'Prod', 'gamma', 'alpha_2', 'alpha_1', 'alpha_0', 'Prod', 'A', 'i_2', 'alpha_2', '(p_2)', 'Prod', 'ee^(*)', 'i_0', 'alpha_1', '(p_1)_v', 'ee', 'i_1', 'alpha_0', '(p_3)_v']\n",
      "['Prod', '-1', 'Prod', 'i', 'Prod', 'e', 'Prod', 'gamma', 'alpha_2', 'alpha_0', 'alpha_1', 'Prod', 'A', 'i_2', 'alpha_2', '(p_3)', 'Prod', 'ee', 'i_0', 'alpha_1', '(p_1)_v', 'ee^(*)', 'i_1', 'alpha_0', '(p_2)_v']\n",
      "['Prod', '-1', 'Prod', 'i', 'Prod', 'e', 'Prod', 'gamma', 'alpha_2', 'alpha_0', 'alpha_1', 'Prod', 'A^(*)', 'i_2', 'alpha_2', '(p_3)', 'Prod', 'mu', 'i_0', 'alpha_1', '(p_1)_u', 'mu^(*)', 'i_1', 'alpha_0', '(p_2)_v']\n",
      "['Prod', '-1', 'Prod', 'i', 'Prod', 'e', 'Prod', 'gamma', 'alpha_2', 'alpha_0', 'alpha_1', 'Prod', 'A^(*)', 'i_0', 'alpha_2', '(p_1)', 'Prod', 'mu', 'i_2', 'alpha_1', '(p_2)_u', 'mu^(*)', 'i_1', 'alpha_0', '(p_3)_v']\n",
      "['Prod', '-1', 'Prod', 'i', 'Prod', 'e', 'Prod', 'gamma', 'alpha_2', 'alpha_0', 'alpha_1', 'Prod', 'A^(*)', 'i_2', 'alpha_2', '(p_3)', 'Prod', 't', 'i_0', 'alpha_1', '(p_1)_u', 't^(*)', 'i_1', 'alpha_0', '(p_2)_v']\n",
      "['Prod', '-1', 'Prod', 'i', 'Prod', 'e', 'Prod', 'gamma', 'alpha_2', 'alpha_0', 'alpha_1', 'Prod', 'A^(*)', 'i_0', 'alpha_2', '(p_1)', 'Prod', 't', 'i_2', 'alpha_1', '(p_2)_u', 't^(*)', 'i_1', 'alpha_0', '(p_3)_v']\n",
      "['Prod', '-1', 'Prod', 'i', 'Prod', 'e', 'Prod', 'gamma', 'alpha_2', 'alpha_1', 'alpha_0', 'Prod', 'A', 'i_2', 'alpha_2', '(p_2)', 'Prod', 'mu^(*)', 'i_0', 'alpha_1', '(p_1)_v', 'mu', 'i_1', 'alpha_0', '(p_3)_v']\n",
      "['Prod', '-1', 'Prod', 'i', 'Prod', 'e', 'Prod', 'gamma', 'alpha_2', 'alpha_0', 'alpha_1', 'Prod', 'A', 'i_2', 'alpha_2', '(p_3)', 'Prod', 'mu', 'i_0', 'alpha_1', '(p_1)_v', 'mu^(*)', 'i_1', 'alpha_0', '(p_2)_v']\n",
      "['Prod', '-1', 'Prod', 'i', 'Prod', 'e', 'Prod', 'gamma', 'alpha_2', 'alpha_0', 'alpha_1', 'Prod', 'A', 'i_2', 'alpha_2', '(p_2)', 'Prod', 'mu', 'i_0', 'alpha_1', '(p_1)_u', 'mu^(*)', 'i_1', 'alpha_0', '(p_3)_u']\n",
      "['Prod', '-1', 'Prod', 'i', 'Prod', 'e', 'Prod', 'gamma', 'alpha_2', 'alpha_1', 'alpha_0', 'Prod', 'A', 'i_2', 'alpha_2', '(p_3)', 'Prod', 'mu^(*)', 'i_0', 'alpha_1', '(p_1)_u', 'mu', 'i_1', 'alpha_0', '(p_2)_u']\n",
      "['Prod', '-1', 'Prod', 'i', 'Prod', 'e', 'Prod', 'gamma', 'alpha_2', 'alpha_0', 'alpha_1', 'Prod', 'A', 'i_2', 'alpha_2', '(p_2)', 'Prod', 't', 'i_0', 'alpha_1', '(p_1)_u', 't^(*)', 'i_1', 'alpha_0', '(p_3)_u']\n",
      "['Prod', '-1', 'Prod', 'i', 'Prod', 'e', 'Prod', 'gamma', 'alpha_2', 'alpha_1', 'alpha_0', 'Prod', 'A', 'i_2', 'alpha_2', '(p_3)', 'Prod', 't^(*)', 'i_0', 'alpha_1', '(p_1)_u', 't', 'i_1', 'alpha_0', '(p_2)_u']\n",
      "['Prod', '2/3', 'Prod', 'i', 'Prod', 'e', 'Prod', 'gamma', 'alpha_2', 'alpha_0', 'alpha_1', 'Prod', 'A', 'i_2', 'alpha_2', '(p_2)', 'Prod', 'u', 'i_0', 'alpha_1', '(p_1)_u', 'u^(*)', 'i_1', 'alpha_0', '(p_3)_u']\n",
      "['Prod', '2/3', 'Prod', 'i', 'Prod', 'e', 'Prod', 'gamma', 'alpha_2', 'alpha_1', 'alpha_0', 'Prod', 'A', 'i_2', 'alpha_2', '(p_3)', 'Prod', 'u^(*)', 'i_0', 'alpha_1', '(p_1)_u', 'u', 'i_1', 'alpha_0', '(p_2)_u']\n",
      "['Prod', '-1/3', 'Prod', 'i', 'Prod', 'e', 'Prod', 'gamma', 'alpha_2', 'alpha_0', 'alpha_1', 'Prod', 'A^(*)', 'i_2', 'alpha_2', '(p_3)', 'Prod', 'd', 'i_0', 'alpha_1', '(p_1)_u', 'd^(*)', 'i_1', 'alpha_0', '(p_2)_v']\n",
      "['Prod', '-1/3', 'Prod', 'i', 'Prod', 'e', 'Prod', 'gamma', 'alpha_2', 'alpha_0', 'alpha_1', 'Prod', 'A^(*)', 'i_0', 'alpha_2', '(p_1)', 'Prod', 'd', 'i_2', 'alpha_1', '(p_2)_u', 'd^(*)', 'i_1', 'alpha_0', '(p_3)_v']\n",
      "['Prod', '-1/3', 'Prod', 'i', 'Prod', 'e', 'Prod', 'gamma', 'alpha_2', 'alpha_0', 'alpha_1', 'Prod', 'A', 'i_2', 'alpha_2', '(p_2)', 'Prod', 'd', 'i_0', 'alpha_1', '(p_1)_u', 'd^(*)', 'i_1', 'alpha_0', '(p_3)_u']\n",
      "['Prod', '-1/3', 'Prod', 'i', 'Prod', 'e', 'Prod', 'gamma', 'alpha_2', 'alpha_1', 'alpha_0', 'Prod', 'A', 'i_2', 'alpha_2', '(p_3)', 'Prod', 'd^(*)', 'i_0', 'alpha_1', '(p_1)_u', 'd', 'i_1', 'alpha_0', '(p_2)_u']\n",
      "['Prod', '2/3', 'Prod', 'i', 'Prod', 'e', 'Prod', 'gamma', 'alpha_2', 'alpha_1', 'alpha_0', 'Prod', 'A', 'i_2', 'alpha_2', '(p_2)', 'Prod', 'u^(*)', 'i_0', 'alpha_1', '(p_1)_v', 'u', 'i_1', 'alpha_0', '(p_3)_v']\n",
      "['Prod', '2/3', 'Prod', 'i', 'Prod', 'e', 'Prod', 'gamma', 'alpha_2', 'alpha_0', 'alpha_1', 'Prod', 'A', 'i_2', 'alpha_2', '(p_3)', 'Prod', 'u', 'i_0', 'alpha_1', '(p_1)_v', 'u^(*)', 'i_1', 'alpha_0', '(p_2)_v']\n",
      "['Prod', '2/3', 'Prod', 'i', 'Prod', 'e', 'Prod', 'gamma', 'alpha_2', 'alpha_0', 'alpha_1', 'Prod', 'A^(*)', 'i_2', 'alpha_2', '(p_3)', 'Prod', 'u', 'i_0', 'alpha_1', '(p_1)_u', 'u^(*)', 'i_1', 'alpha_0', '(p_2)_v']\n",
      "['Prod', '2/3', 'Prod', 'i', 'Prod', 'e', 'Prod', 'gamma', 'alpha_2', 'alpha_1', 'alpha_0', 'Prod', 'A', 'i_2', 'alpha_2', '(p_3)', 'Prod', 'c^(*)', 'i_0', 'alpha_1', '(p_1)_u', 'c', 'i_1', 'alpha_0', '(p_2)_u']\n"
     ]
    }
   ],
   "source": [
    "print(amplitudes_unique[1][0])\n",
    "print(amplitudes_unique[1][1])\n",
    "print(amplitudes_unique[1][2])\n",
    "print(amplitudes_unique[1][3])\n",
    "print(amplitudes_unique[1][4])\n",
    "print(amplitudes_unique[1][5])\n",
    "print(amplitudes_unique[1][6])\n",
    "print(amplitudes_unique[1][7])\n",
    "print(amplitudes_unique[1][8])\n",
    "print(amplitudes_unique[1][9])\n",
    "print(amplitudes_unique[1][10])\n",
    "print(amplitudes_unique[1][11])\n",
    "print(amplitudes_unique[1][12])\n",
    "print(amplitudes_unique[1][13])\n",
    "print(amplitudes_unique[1][14])\n",
    "print(amplitudes_unique[1][15])\n",
    "print(amplitudes_unique[1][16])\n",
    "print(amplitudes_unique[1][17])\n",
    "print(amplitudes_unique[1][18])\n",
    "print(amplitudes_unique[1][19])\n",
    "print(amplitudes_unique[1][20])\n",
    "print(amplitudes_unique[1][21])\n",
    "print(amplitudes_unique[1][22])\n",
    "print(amplitudes_unique[1][23])\n",
    "print(amplitudes_unique[1][24])\n",
    "print(amplitudes_unique[1][-1])"
   ]
  },
  {
   "cell_type": "code",
   "execution_count": 99,
   "metadata": {},
   "outputs": [
    {
     "data": {
      "text/latex": [
       "$\\displaystyle \\frac{4 e^{4} \\cdot \\left(2 m_{e}^{4} + m_{e}^{2} \\left(- s_{14} - s_{23}\\right) + s_{12} s_{34} + s_{13} s_{24}\\right)}{\\left(2 m_{e}^{2} + reg_{prop} - 2 s_{23}\\right)^{2}}$"
      ],
      "text/plain": [
       "4*e**4*(2*m_e**4 + m_e**2*(-s_14 - s_23) + s_12*s_34 + s_13*s_24)/(2*m_e**2 + reg_prop - 2*s_23)**2"
      ]
     },
     "metadata": {},
     "output_type": "display_data"
    },
    {
     "name": "stdout",
     "output_type": "stream",
     "text": [
      "                                                              mul                                                                              \n",
      " ┌───────┬─────────────┬───────────────────────────────────────┴──────────────────────────────────┐                                             \n",
      " │       │            pow                                                                        add                                           \n",
      " │       │       ┌─────┴──────────────┐                        ┌────────────────┬─────────────┬───┴────────────────┐                            \n",
      " │       │       │                   add                       │                │             │                   mul                          \n",
      " │       │       │     ┌──────────┬───┴────────┐               │                │             │            ┌───────┴────────────┐               \n",
      " │       │       │     │          │           mul             mul               │             │            │                   add             \n",
      " │       │       │     │          │        ┌───┴───┐       ┌───┴───┐            │             │            │           ┌────────┴───────┐       \n",
      " │      pow      │     │         mul       │      pow      │      pow          mul           mul          pow         mul              mul     \n",
      " │   ┌───┴───┐   │     │      ┌───┴───┐    │   ┌───┴───┐   │   ┌───┴───┐   ┌────┴───┐    ┌────┴───┐    ┌───┴───┐   ┌───┴───┐        ┌───┴───┐   \n",
      " 4   e       4   -2 reg_prop  -2     s_23  2  m_e      2   2  m_e      4  s_12     s_34 s_13     s_24 m_e      2   -1     s_14      -1     s_23\n",
      "\n",
      "tree_to_sympy:\n"
     ]
    },
    {
     "data": {
      "text/latex": [
       "$\\displaystyle \\frac{4 e^{4} \\cdot \\left(2 m_{e}^{4} + m_{e}^{2} \\left(- s_{14} - s_{23}\\right) + s_{12} s_{34} + s_{13} s_{24}\\right)}{\\left(2 m_{e}^{2} + reg_{prop} - 2 s_{23}\\right)^{2}}$"
      ],
      "text/plain": [
       "4*e**4*(2*m_e**4 + m_e**2*(-s_14 - s_23) + s_12*s_34 + s_13*s_24)/(2*m_e**2 + reg_prop - 2*s_23)**2"
      ]
     },
     "metadata": {},
     "output_type": "display_data"
    }
   ],
   "source": [
    "# convert squared amplitudes to trees:\n",
    "ctr = 0\n",
    "def try_sympy_to_tree(expr):\n",
    "    global ctr\n",
    "    ctr = ctr + 1\n",
    "    try:\n",
    "        return sp2tree.sympy_to_tree(expr)\n",
    "    except:\n",
    "        print(\"problem with:\", expr, \"at ctr =\", ctr)\n",
    "        return 0\n",
    "sqampl_tree = [[try_sympy_to_tree(a) for a in tqdm(sq)] for sq in sqamplitudes_corresponding]\n",
    "display(sqamplitudes_corresponding[2][0])\n",
    "sqampl_tree[2][0].pretty_print(unicodelines=True)\n",
    "\n",
    "# convert back\n",
    "print(\"tree_to_sympy:\")\n",
    "display(sp2tree.tree_to_sympy(sqampl_tree[2][0]))"
   ]
  },
  {
   "cell_type": "code",
   "execution_count": 107,
   "metadata": {},
   "outputs": [
    {
     "name": "stdout",
     "output_type": "stream",
     "text": [
      "['Prod', '-1', 'Prod', 'i', 'Prod', 'e', 'Prod', 'gamma', 'alpha_2', 'alpha_0', 'alpha_1', 'Prod', 'A^(*)', 'i_2', 'alpha_2', '(p_3)', 'Prod', 'mu', 'i_0', 'alpha_1', '(p_1)_u', 'mu^(*)', 'i_1', 'alpha_0', '(p_2)_u']\n",
      "['Prod', '-1', 'Prod', 'i', 'Prod', 'e', 'Prod', 'gamma', 'alpha_2', 'alpha_1', 'alpha_0', 'Prod', 'A^(*)', 'i_2', 'alpha_2', '(p_2)', 'Prod', 'mu^(*)', 'i_0', 'alpha_1', '(p_1)_u', 'mu', 'i_1', 'alpha_0', '(p_3)_u']\n",
      "-4*e**2*(2*m_mu**2 - s_12)\n",
      "-4*e**2*(2*m_mu**2 - s_13)\n"
     ]
    }
   ],
   "source": [
    "print(amplitudes_unique[0][0])\n",
    "print(amplitudes_unique[0][1])\n",
    "print(sqamplitudes_corresponding[0][0])\n",
    "print(sqamplitudes_corresponding[0][1])"
   ]
  },
  {
   "cell_type": "code",
   "execution_count": null,
   "metadata": {},
   "outputs": [],
   "source": []
  }
 ],
 "metadata": {
  "kernelspec": {
   "display_name": "Python 3.9.12 ('base')",
   "language": "python",
   "name": "python3"
  },
  "language_info": {
   "codemirror_mode": {
    "name": "ipython",
    "version": 3
   },
   "file_extension": ".py",
   "mimetype": "text/x-python",
   "name": "python",
   "nbconvert_exporter": "python",
   "pygments_lexer": "ipython3",
   "version": "3.9.12"
  },
  "orig_nbformat": 4,
  "vscode": {
   "interpreter": {
    "hash": "c4adc2ea131058d4ca334736eaf83f8a99f586a60b7e02773f5921bb39d3dbeb"
   }
  }
 },
 "nbformat": 4,
 "nbformat_minor": 2
}
